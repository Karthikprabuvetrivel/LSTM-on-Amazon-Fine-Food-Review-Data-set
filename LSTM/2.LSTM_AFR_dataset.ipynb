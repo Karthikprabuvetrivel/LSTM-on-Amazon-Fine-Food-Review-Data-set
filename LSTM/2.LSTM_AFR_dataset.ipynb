{
  "nbformat": 4,
  "nbformat_minor": 0,
  "metadata": {
    "colab": {
      "name": "LSTM - AFR dataset.ipynb",
      "version": "0.3.2",
      "provenance": [],
      "collapsed_sections": []
    },
    "kernelspec": {
      "name": "python3",
      "display_name": "Python 3"
    }
  },
  "cells": [
    {
      "cell_type": "markdown",
      "metadata": {
        "id": "tIa2lk_emHgA",
        "colab_type": "text"
      },
      "source": [
        "## LSTM - AFR dataset"
      ]
    },
    {
      "cell_type": "markdown",
      "metadata": {
        "id": "HkaAXqYsmPvi",
        "colab_type": "text"
      },
      "source": [
        "### 1. Objective:\n",
        "    To find the polarity of review"
      ]
    },
    {
      "cell_type": "code",
      "metadata": {
        "id": "3xdxs22vm9Bl",
        "colab_type": "code",
        "colab": {}
      },
      "source": [
        "import os\n",
        "import numpy as np\n",
        "import matplotlib.pyplot as plt\n",
        "import seaborn as sns\n",
        "import pandas as pd\n",
        "import warnings\n",
        "warnings.filterwarnings(\"ignore\")"
      ],
      "execution_count": 0,
      "outputs": []
    },
    {
      "cell_type": "markdown",
      "metadata": {
        "id": "Qk_k0-Osm0tj",
        "colab_type": "text"
      },
      "source": [
        "### 2. Data Import:"
      ]
    },
    {
      "cell_type": "code",
      "metadata": {
        "id": "ABz4shIn6nTC",
        "colab_type": "code",
        "colab": {}
      },
      "source": [
        "# References \n",
        "# https://www.programcreek.com/python/example/99451/sklearn.externals.joblib.dump\n",
        "\n",
        "from sklearn.externals import joblib"
      ],
      "execution_count": 0,
      "outputs": []
    },
    {
      "cell_type": "code",
      "metadata": {
        "id": "BW0RWKN29Phu",
        "colab_type": "code",
        "colab": {}
      },
      "source": [
        "# load data from pickle file\n",
        "\n",
        "x_train = joblib.load(\"x_train.pkl\")\n",
        "x_test = joblib.load(\"x_test.pkl\")"
      ],
      "execution_count": 0,
      "outputs": []
    },
    {
      "cell_type": "code",
      "metadata": {
        "id": "EmmjQ-fRUWQh",
        "colab_type": "code",
        "colab": {}
      },
      "source": [
        "# Load label from pickle file\n",
        "\n",
        "y_train = joblib.load(\"y_train.pkl\")\n",
        "y_test = joblib.load(\"y_test.pkl\")"
      ],
      "execution_count": 0,
      "outputs": []
    },
    {
      "cell_type": "code",
      "metadata": {
        "id": "KduiE4taWEkW",
        "colab_type": "code",
        "outputId": "36e6b06d-dcc3-49d0-dddb-ab75a636e691",
        "colab": {
          "base_uri": "https://localhost:8080/",
          "height": 34
        }
      },
      "source": [
        "len(x_train[0])"
      ],
      "execution_count": 9,
      "outputs": [
        {
          "output_type": "execute_result",
          "data": {
            "text/plain": [
              "69"
            ]
          },
          "metadata": {
            "tags": []
          },
          "execution_count": 9
        }
      ]
    },
    {
      "cell_type": "code",
      "metadata": {
        "id": "Uu54ZC0IWLv6",
        "colab_type": "code",
        "outputId": "5dcf31b7-458e-4e0c-b155-68d720443ac4",
        "colab": {
          "base_uri": "https://localhost:8080/",
          "height": 34
        }
      },
      "source": [
        "type(x_train[0])"
      ],
      "execution_count": 10,
      "outputs": [
        {
          "output_type": "execute_result",
          "data": {
            "text/plain": [
              "list"
            ]
          },
          "metadata": {
            "tags": []
          },
          "execution_count": 10
        }
      ]
    },
    {
      "cell_type": "code",
      "metadata": {
        "id": "EyEzXdvO_RqT",
        "colab_type": "code",
        "outputId": "9d8539e2-a551-47eb-89e6-e3915fc37142",
        "colab": {
          "base_uri": "https://localhost:8080/",
          "height": 68
        }
      },
      "source": [
        "y_train.value_counts()"
      ],
      "execution_count": 11,
      "outputs": [
        {
          "output_type": "execute_result",
          "data": {
            "text/plain": [
              "1    245654\n",
              "0     45682\n",
              "Name: Score, dtype: int64"
            ]
          },
          "metadata": {
            "tags": []
          },
          "execution_count": 11
        }
      ]
    },
    {
      "cell_type": "markdown",
      "metadata": {
        "id": "9gYx5th5rlaq",
        "colab_type": "text"
      },
      "source": [
        "### 3. Padding:"
      ]
    },
    {
      "cell_type": "code",
      "metadata": {
        "id": "aMbvAS8_rbGG",
        "colab_type": "code",
        "outputId": "58d3c429-0d91-443e-e829-ba4efee77cc7",
        "colab": {
          "base_uri": "https://localhost:8080/",
          "height": 34
        }
      },
      "source": [
        "# https://keras.io/preprocessing/sequence/\n",
        "# https://keras.io/examples/imdb_lstm/\n",
        "\n",
        "from keras.preprocessing import sequence"
      ],
      "execution_count": 12,
      "outputs": [
        {
          "output_type": "stream",
          "text": [
            "Using TensorFlow backend.\n"
          ],
          "name": "stderr"
        }
      ]
    },
    {
      "cell_type": "code",
      "metadata": {
        "id": "MtsroYfJsCJd",
        "colab_type": "code",
        "colab": {}
      },
      "source": [
        "# padding of train and test data\n",
        "\n",
        "\n",
        "x_train=sequence.pad_sequences(x_train,maxlen=100)\n",
        "x_test =sequence.pad_sequences(x_test,maxlen=100)"
      ],
      "execution_count": 0,
      "outputs": []
    },
    {
      "cell_type": "code",
      "metadata": {
        "id": "vO7Joke2u2ld",
        "colab_type": "code",
        "outputId": "89a02f9a-b362-4130-a83c-0398a5d316f9",
        "colab": {
          "base_uri": "https://localhost:8080/",
          "height": 221
        }
      },
      "source": [
        "x_train[0]"
      ],
      "execution_count": 14,
      "outputs": [
        {
          "output_type": "execute_result",
          "data": {
            "text/plain": [
              "array([    0,     0,     0,     0,     0,     0,     0,     0,     0,\n",
              "           0,     0,     0,     0,     0,     0,     0,     0,     0,\n",
              "           0,     0,     0,     0,     0,     0,     0,     0,     0,\n",
              "           0,     0,     0,     0,    11,  3643,   187,   102,   341,\n",
              "          17,  1762,  1903,  1081,   419,     1,    55,   419,  1222,\n",
              "         225,  1770,  2082,   792,  2096,  2447,   746,   369,   352,\n",
              "         858,    23,   209,    26,     5,    24,   209,    90,   580,\n",
              "         127,   849,   114,   557,  1978,    16,   186,     1,   196,\n",
              "        1646,   259,   975,   452,  1367,    41,    59,  1460,   638,\n",
              "           1,   603,  4355,    96,    38,   624,    60, 11423,   237,\n",
              "        1367, 11973,   265,   345,   273,     4,   207,   114,    19,\n",
              "         562], dtype=int32)"
            ]
          },
          "metadata": {
            "tags": []
          },
          "execution_count": 14
        }
      ]
    },
    {
      "cell_type": "code",
      "metadata": {
        "id": "TeScLilbWia_",
        "colab_type": "code",
        "outputId": "c601b028-4a5d-42d5-dc5c-3d73c03376fa",
        "colab": {
          "base_uri": "https://localhost:8080/",
          "height": 187
        }
      },
      "source": [
        "x_test[0]"
      ],
      "execution_count": 15,
      "outputs": [
        {
          "output_type": "execute_result",
          "data": {
            "text/plain": [
              "array([   0,    0,    0,    0,    0,    0,    0,    0,    0,    0,    0,\n",
              "          0,    0,    0,    0,    0,    0,    0,    0,    0,    0,    0,\n",
              "          0,    0,    0,    0,    0,    0,    0,    0,    0,    0,    0,\n",
              "          0,    0,    0,    0,    0,    0,    0,    0,    0,    0,    0,\n",
              "          0,    0,    0,    0,    0,    0,    0,    0,    0,    0,    0,\n",
              "          0,    0,    0,    0,    0,    0,    0,    0,    0,    0,    0,\n",
              "          0,    0,    0,   29,   46,  341,    1,    3,    2,  151, 2216,\n",
              "        178,   66,  833,   33,   84,    5,  151, 2216,   46,    4, 1328,\n",
              "       1263,    3,  411,  284,   33,  178,   42,   29,   78,  204,   45,\n",
              "         86], dtype=int32)"
            ]
          },
          "metadata": {
            "tags": []
          },
          "execution_count": 15
        }
      ]
    },
    {
      "cell_type": "code",
      "metadata": {
        "id": "tMxnOI6UWlhu",
        "colab_type": "code",
        "outputId": "76b26da1-d58f-48fc-8f09-ab7d25874eb8",
        "colab": {
          "base_uri": "https://localhost:8080/",
          "height": 51
        }
      },
      "source": [
        "print(x_train.shape)\n",
        "print(x_test.shape)"
      ],
      "execution_count": 16,
      "outputs": [
        {
          "output_type": "stream",
          "text": [
            "(291336, 100)\n",
            "(72835, 100)\n"
          ],
          "name": "stdout"
        }
      ]
    },
    {
      "cell_type": "markdown",
      "metadata": {
        "id": "QNeVnYFgXBfH",
        "colab_type": "text"
      },
      "source": [
        "### 4. LSTM Model "
      ]
    },
    {
      "cell_type": "markdown",
      "metadata": {
        "id": "2UEThQh0XIMw",
        "colab_type": "text"
      },
      "source": [
        "### 4.1 Single LSTM layer:"
      ]
    },
    {
      "cell_type": "markdown",
      "metadata": {
        "id": "WKVQdjL4XRBD",
        "colab_type": "text"
      },
      "source": [
        "#### 4.1.1 Sequence model:"
      ]
    },
    {
      "cell_type": "code",
      "metadata": {
        "id": "Sac1bmumXQWF",
        "colab_type": "code",
        "colab": {}
      },
      "source": [
        "# References\n",
        "# https://keras.io/layers/\n",
        "\n",
        "from keras.models import Sequential\n",
        "from keras.layers import Dense,Embedding,LSTM\n",
        "from keras.initializers import glorot_normal"
      ],
      "execution_count": 0,
      "outputs": []
    },
    {
      "cell_type": "code",
      "metadata": {
        "id": "NzFSkGh_W0tg",
        "colab_type": "code",
        "outputId": "95603ce2-a794-4799-a3ca-0a1af3e26c34",
        "colab": {
          "base_uri": "https://localhost:8080/",
          "height": 88
        }
      },
      "source": [
        "# References\n",
        "# https://keras.io/layers/embeddings/#embedding\n",
        "# https://keras.io/layers/recurrent/#lstm\n",
        "\n",
        "# vocabulary size = 64868 +1 = 64869 = input_dim\n",
        "\n",
        "# model creation\n",
        "\n",
        "model=Sequential()\n",
        "\n",
        "# embedding layer\n",
        "\n",
        "model.add(Embedding(input_dim= 64869,output_dim=32,input_length=100,embeddings_initializer=\"glorot_normal\"))\n",
        "\n",
        "# LSTM layer\n",
        "\n",
        "model.add(LSTM(100))\n",
        "\n",
        "# Dense layer\n",
        "\n",
        "model.add(Dense(1,activation=\"sigmoid\"))"
      ],
      "execution_count": 0,
      "outputs": [
        {
          "output_type": "stream",
          "text": [
            "WARNING:tensorflow:From /usr/local/lib/python3.6/dist-packages/tensorflow/python/framework/op_def_library.py:263: colocate_with (from tensorflow.python.framework.ops) is deprecated and will be removed in a future version.\n",
            "Instructions for updating:\n",
            "Colocations handled automatically by placer.\n"
          ],
          "name": "stdout"
        }
      ]
    },
    {
      "cell_type": "code",
      "metadata": {
        "id": "nFQZCAITezTY",
        "colab_type": "code",
        "outputId": "130efea1-a7af-4b49-cb87-8e0bbc1b82ab",
        "colab": {
          "base_uri": "https://localhost:8080/",
          "height": 238
        }
      },
      "source": [
        "# Model Summary\n",
        "\n",
        "model.summary()"
      ],
      "execution_count": 0,
      "outputs": [
        {
          "output_type": "stream",
          "text": [
            "_________________________________________________________________\n",
            "Layer (type)                 Output Shape              Param #   \n",
            "=================================================================\n",
            "embedding_1 (Embedding)      (None, 100, 32)           2075808   \n",
            "_________________________________________________________________\n",
            "lstm_1 (LSTM)                (None, 100)               53200     \n",
            "_________________________________________________________________\n",
            "dense_1 (Dense)              (None, 1)                 101       \n",
            "=================================================================\n",
            "Total params: 2,129,109\n",
            "Trainable params: 2,129,109\n",
            "Non-trainable params: 0\n",
            "_________________________________________________________________\n"
          ],
          "name": "stdout"
        }
      ]
    },
    {
      "cell_type": "code",
      "metadata": {
        "id": "I9qlqL2Be3oG",
        "colab_type": "code",
        "colab": {}
      },
      "source": [
        "# Model compilation\n",
        "\n",
        "model.compile(optimizer=\"adam\",loss=\"binary_crossentropy\",metrics=[\"accuracy\"])"
      ],
      "execution_count": 0,
      "outputs": []
    },
    {
      "cell_type": "markdown",
      "metadata": {
        "id": "TW2TUGcnfU56",
        "colab_type": "text"
      },
      "source": [
        "#### 4.1.2 Model Training:"
      ]
    },
    {
      "cell_type": "code",
      "metadata": {
        "id": "QkswQW6ufUHS",
        "colab_type": "code",
        "outputId": "df06c936-67de-4c85-ef6a-18b59d9384b5",
        "colab": {
          "base_uri": "https://localhost:8080/",
          "height": 445
        }
      },
      "source": [
        "# model training\n",
        "\n",
        "History=model.fit(x_train,y_train,batch_size=1000,epochs=10,verbose=1,validation_split=0.3)"
      ],
      "execution_count": 0,
      "outputs": [
        {
          "output_type": "stream",
          "text": [
            "WARNING:tensorflow:From /usr/local/lib/python3.6/dist-packages/tensorflow/python/ops/math_ops.py:3066: to_int32 (from tensorflow.python.ops.math_ops) is deprecated and will be removed in a future version.\n",
            "Instructions for updating:\n",
            "Use tf.cast instead.\n",
            "Train on 203935 samples, validate on 87401 samples\n",
            "Epoch 1/10\n",
            "203935/203935 [==============================] - 415s 2ms/step - loss: 0.2981 - acc: 0.8864 - val_loss: 0.1984 - val_acc: 0.9216\n",
            "Epoch 2/10\n",
            "203935/203935 [==============================] - 418s 2ms/step - loss: 0.1827 - acc: 0.9289 - val_loss: 0.1947 - val_acc: 0.9258\n",
            "Epoch 3/10\n",
            "203935/203935 [==============================] - 419s 2ms/step - loss: 0.1681 - acc: 0.9348 - val_loss: 0.1946 - val_acc: 0.9245\n",
            "Epoch 4/10\n",
            "203935/203935 [==============================] - 409s 2ms/step - loss: 0.1589 - acc: 0.9393 - val_loss: 0.1971 - val_acc: 0.9246\n",
            "Epoch 5/10\n",
            "203935/203935 [==============================] - 416s 2ms/step - loss: 0.1500 - acc: 0.9430 - val_loss: 0.1983 - val_acc: 0.9229\n",
            "Epoch 6/10\n",
            "203935/203935 [==============================] - 417s 2ms/step - loss: 0.1401 - acc: 0.9468 - val_loss: 0.2006 - val_acc: 0.9230\n",
            "Epoch 7/10\n",
            "203935/203935 [==============================] - 414s 2ms/step - loss: 0.1326 - acc: 0.9498 - val_loss: 0.2041 - val_acc: 0.9227\n",
            "Epoch 8/10\n",
            "203935/203935 [==============================] - 412s 2ms/step - loss: 0.1243 - acc: 0.9535 - val_loss: 0.2063 - val_acc: 0.9199\n",
            "Epoch 9/10\n",
            "203935/203935 [==============================] - 410s 2ms/step - loss: 0.1147 - acc: 0.9575 - val_loss: 0.2069 - val_acc: 0.9231\n",
            "Epoch 10/10\n",
            "203935/203935 [==============================] - 409s 2ms/step - loss: 0.1074 - acc: 0.9605 - val_loss: 0.2196 - val_acc: 0.9183\n"
          ],
          "name": "stdout"
        }
      ]
    },
    {
      "cell_type": "code",
      "metadata": {
        "id": "5NjuwGXWfOhi",
        "colab_type": "code",
        "outputId": "924ebf90-54eb-4826-bc07-34113200c985",
        "colab": {
          "base_uri": "https://localhost:8080/",
          "height": 295
        }
      },
      "source": [
        "# References\n",
        "# https://machinelearningmastery.com/display-deep-learning-model-training-history-in-keras/\n",
        "# https://keras.io/models/sequential/\n",
        "\n",
        "# Plotting Loss vs Epoch\n",
        "\n",
        "plt.close()\n",
        "plt.plot(History.history['loss'],'b',label=\"Training Loss\")\n",
        "plt.plot(History.history['val_loss'],'r',label=\"Validation Loss\")\n",
        "plt.title(\"Loss vs Epoch\")\n",
        "plt.xlabel(\"Epochs\")\n",
        "plt.ylabel(\"Loss\")\n",
        "plt.legend()\n",
        "plt.grid()\n",
        "plt.show()"
      ],
      "execution_count": 0,
      "outputs": [
        {
          "output_type": "display_data",
          "data": {
            "image/png": "[encoded data removed]",
            "text/plain": [
              "<Figure size 432x288 with 1 Axes>"
            ]
          },
          "metadata": {
            "tags": []
          }
        }
      ]
    },
    {
      "cell_type": "code",
      "metadata": {
        "id": "0Wint0CkruOT",
        "colab_type": "code",
        "outputId": "0b76a8f1-0c92-49b9-ecf4-cbfe09d63bb5",
        "colab": {
          "base_uri": "https://localhost:8080/",
          "height": 295
        }
      },
      "source": [
        "# Plotting Accuracy vs Epoch\n",
        "\n",
        "plt.close()\n",
        "plt.plot(History.history['acc'],'b',label=\"Training Accuracy\")\n",
        "plt.plot(History.history['val_acc'],'r',label=\"Validation Accuracy\")\n",
        "plt.title(\"Accuracy vs Epoch\")\n",
        "plt.xlabel(\"Epochs\")\n",
        "plt.ylabel(\"Accuracy\")\n",
        "plt.legend()\n",
        "plt.grid()\n",
        "plt.show()"
      ],
      "execution_count": 0,
      "outputs": [
        {
          "output_type": "display_data",
          "data": {
            "image/png": "[encoded data removed]",
            "text/plain": [
              "<Figure size 432x288 with 1 Axes>"
            ]
          },
          "metadata": {
            "tags": []
          }
        }
      ]
    },
    {
      "cell_type": "code",
      "metadata": {
        "id": "oGXeOeSXrxDd",
        "colab_type": "code",
        "outputId": "be28d64a-f06c-419c-bf30-08790e2550cb",
        "colab": {
          "base_uri": "https://localhost:8080/",
          "height": 88
        }
      },
      "source": [
        "# References\n",
        "# https://stackoverflow.com/questions/43715047/keras-2-x-get-weights-of-layer\n",
        "\n",
        "\n",
        "for layer in model.layers:\n",
        "  print(layer.get_config())"
      ],
      "execution_count": 0,
      "outputs": [
        {
          "output_type": "stream",
          "text": [
            "{'name': 'embedding_1', 'trainable': True, 'batch_input_shape': (None, 100), 'dtype': 'float32', 'input_dim': 64869, 'output_dim': 32, 'embeddings_initializer': {'class_name': 'VarianceScaling', 'config': {'scale': 1.0, 'mode': 'fan_avg', 'distribution': 'normal', 'seed': None}}, 'embeddings_regularizer': None, 'activity_regularizer': None, 'embeddings_constraint': None, 'mask_zero': False, 'input_length': 100}\n",
            "{'name': 'lstm_1', 'trainable': True, 'return_sequences': False, 'return_state': False, 'go_backwards': False, 'stateful': False, 'unroll': False, 'units': 100, 'activation': 'tanh', 'recurrent_activation': 'hard_sigmoid', 'use_bias': True, 'kernel_initializer': {'class_name': 'VarianceScaling', 'config': {'scale': 1.0, 'mode': 'fan_avg', 'distribution': 'uniform', 'seed': None}}, 'recurrent_initializer': {'class_name': 'Orthogonal', 'config': {'gain': 1.0, 'seed': None}}, 'bias_initializer': {'class_name': 'Zeros', 'config': {}}, 'unit_forget_bias': True, 'kernel_regularizer': None, 'recurrent_regularizer': None, 'bias_regularizer': None, 'activity_regularizer': None, 'kernel_constraint': None, 'recurrent_constraint': None, 'bias_constraint': None, 'dropout': 0.0, 'recurrent_dropout': 0.0, 'implementation': 1}\n",
            "{'name': 'dense_1', 'trainable': True, 'units': 1, 'activation': 'sigmoid', 'use_bias': True, 'kernel_initializer': {'class_name': 'VarianceScaling', 'config': {'scale': 1.0, 'mode': 'fan_avg', 'distribution': 'uniform', 'seed': None}}, 'bias_initializer': {'class_name': 'Zeros', 'config': {}}, 'kernel_regularizer': None, 'bias_regularizer': None, 'activity_regularizer': None, 'kernel_constraint': None, 'bias_constraint': None}\n"
          ],
          "name": "stdout"
        }
      ]
    },
    {
      "cell_type": "code",
      "metadata": {
        "id": "VUUsFtxmtt6y",
        "colab_type": "code",
        "outputId": "470600ac-14e0-4b27-8a02-1154f764d643",
        "colab": {
          "base_uri": "https://localhost:8080/",
          "height": 190
        }
      },
      "source": [
        "# References\n",
        "# https://stackoverflow.com/questions/43715047/keras-2-x-get-weights-of-layer\n",
        "\n",
        "layer1_weights = model.layers[0].get_weights()[0]\n",
        "layer2_weights = model.layers[1].get_weights()[0]\n",
        "layer3_weights = model.layers[2].get_weights()[0]\n",
        "\n",
        "print(\" Embedding Layer Weight Matrix Shape\")\n",
        "print(\"=\"*125)\n",
        "print(layer1_weights.shape)\n",
        "print(\" LSTM  Weight Matrix Shape\")\n",
        "print(\"=\"*125)\n",
        "print(layer2_weights.shape)\n",
        "print(\" Output Layer Weight Matrix Shape\")\n",
        "print(\"=\"*125)\n",
        "print(layer3_weights.shape)"
      ],
      "execution_count": 0,
      "outputs": [
        {
          "output_type": "stream",
          "text": [
            " Embedding Layer Weight Matrix Shape\n",
            "=============================================================================================================================\n",
            "(64869, 32)\n",
            " LSTM  Weight Matrix Shape\n",
            "=============================================================================================================================\n",
            "(32, 400)\n",
            " Output Layer Weight Matrix Shape\n",
            "=============================================================================================================================\n",
            "(100, 1)\n"
          ],
          "name": "stdout"
        }
      ]
    },
    {
      "cell_type": "code",
      "metadata": {
        "id": "UZulqJu6uNlc",
        "colab_type": "code",
        "outputId": "e5daf2bc-bc94-4f91-b52b-26bb283b0761",
        "colab": {
          "base_uri": "https://localhost:8080/",
          "height": 465
        }
      },
      "source": [
        "# References \n",
        "# https://seaborn.pydata.org/generated/seaborn.violinplot.html\n",
        "# https://matplotlib.org/api/_as_gen/matplotlib.pyplot.subplot.html\n",
        "\n",
        "fig = plt.figure(1,figsize=(7,7))\n",
        "fig.suptitle(\"Weight Matrix\")\n",
        "plt.subplot(1, 3, 1)\n",
        "plt.title(\"Embedded Layer\")\n",
        "sns.violinplot(y=layer1_weights,color='r')\n",
        "plt.grid()\n",
        "\n",
        "plt.subplot(1,3,2)\n",
        "plt.title(\"LSTM layer\")\n",
        "sns.violinplot(y=layer2_weights,color='g')\n",
        "plt.grid()\n",
        "\n",
        "plt.subplot(1,3,3)\n",
        "plt.title(\"Output layer\")\n",
        "sns.violinplot(y=layer3_weights,color='b')\n",
        "plt.grid()"
      ],
      "execution_count": 0,
      "outputs": [
        {
          "output_type": "display_data",
          "data": {
            "image/png": "[encoded data removed]",
            "text/plain": [
              "<Figure size 504x504 with 3 Axes>"
            ]
          },
          "metadata": {
            "tags": []
          }
        }
      ]
    },
    {
      "cell_type": "markdown",
      "metadata": {
        "id": "jikv5anjux0b",
        "colab_type": "text"
      },
      "source": [
        "#### 4.1.3 Model Evaluation:"
      ]
    },
    {
      "cell_type": "code",
      "metadata": {
        "id": "ZHbgCNYqu0Qu",
        "colab_type": "code",
        "colab": {}
      },
      "source": [
        "# Refernces\n",
        "# https://keras.io/models/model/#evaluate\n",
        "\n",
        "evaluate_data=model.evaluate(x_test,y_test,verbose=0)"
      ],
      "execution_count": 0,
      "outputs": []
    },
    {
      "cell_type": "code",
      "metadata": {
        "id": "Gchpmfn4u38_",
        "colab_type": "code",
        "outputId": "f0329de6-2d48-490a-85d2-c729a844702c",
        "colab": {
          "base_uri": "https://localhost:8080/",
          "height": 139
        }
      },
      "source": [
        "evaluate_loss = evaluate_data[0]\n",
        "evaluate_acc  = evaluate_data[1]\n",
        "\n",
        "print(\" Evaluate Loss\")\n",
        "print(\"=\"*100)\n",
        "print(evaluate_loss)\n",
        "\n",
        "print(\" Evaluate Accuracy\")\n",
        "print(\"=\"*100)\n",
        "print(evaluate_acc)"
      ],
      "execution_count": 0,
      "outputs": [
        {
          "output_type": "stream",
          "text": [
            " Evaluate Loss\n",
            "====================================================================================================\n",
            "0.2180799318348493\n",
            " Evaluate Accuracy\n",
            "====================================================================================================\n",
            "0.9180613715941457\n"
          ],
          "name": "stdout"
        }
      ]
    },
    {
      "cell_type": "markdown",
      "metadata": {
        "id": "ufg81hF2vqjO",
        "colab_type": "text"
      },
      "source": [
        "#### 4.1.4 Model Observation:"
      ]
    },
    {
      "cell_type": "code",
      "metadata": {
        "id": "uJAsAzYJvk8I",
        "colab_type": "code",
        "colab": {}
      },
      "source": [
        "from prettytable import PrettyTable"
      ],
      "execution_count": 0,
      "outputs": []
    },
    {
      "cell_type": "code",
      "metadata": {
        "id": "SCxXGh_HvvTW",
        "colab_type": "code",
        "outputId": "8dd498e4-b2c5-401d-8841-b6caf2adb01e",
        "colab": {
          "base_uri": "https://localhost:8080/",
          "height": 187
        }
      },
      "source": [
        "a=PrettyTable()\n",
        "b=PrettyTable()\n",
        "b.field_names = [\"Optimizer\",\"Dropout rate\",\"Batch Size\",\"Epochs\"]\n",
        "b.add_row([\"Adam\",\"Nil\",1000,10])\n",
        "a.field_names = [\"LSTM layer\",\"units\",\"Train loss\",\"Val_loss\",\"Test_loss\",\"Train_acc\",\"Val_acc\",\"Test_acc\"]\n",
        "a.add_row([1,100,0.1074,0.2196 ,0.2180,0.9605,0.9183,0.9180])\n",
        "print(b)\n",
        "print(a)\n"
      ],
      "execution_count": 0,
      "outputs": [
        {
          "output_type": "stream",
          "text": [
            "+-----------+--------------+------------+--------+\n",
            "| Optimizer | Dropout rate | Batch Size | Epochs |\n",
            "+-----------+--------------+------------+--------+\n",
            "|    Adam   |     Nil      |    1000    |   10   |\n",
            "+-----------+--------------+------------+--------+\n",
            "+------------+-------+------------+----------+-----------+-----------+---------+----------+\n",
            "| LSTM layer | units | Train loss | Val_loss | Test_loss | Train_acc | Val_acc | Test_acc |\n",
            "+------------+-------+------------+----------+-----------+-----------+---------+----------+\n",
            "|     1      |  100  |   0.1074   |  0.2196  |   0.218   |   0.9605  |  0.9183 |  0.918   |\n",
            "+------------+-------+------------+----------+-----------+-----------+---------+----------+\n"
          ],
          "name": "stdout"
        }
      ]
    },
    {
      "cell_type": "markdown",
      "metadata": {
        "colab_type": "text",
        "id": "QN1kE9VwwgvM"
      },
      "source": [
        "### 4.2 Two LSTM layer:\n"
      ]
    },
    {
      "cell_type": "markdown",
      "metadata": {
        "colab_type": "text",
        "id": "ywJLM4qxwgvO"
      },
      "source": [
        "#### 4.2.1 Sequence model:"
      ]
    },
    {
      "cell_type": "code",
      "metadata": {
        "id": "DJU0_AADwzMj",
        "colab_type": "code",
        "colab": {}
      },
      "source": [
        "from keras.layers import Dropout,BatchNormalization"
      ],
      "execution_count": 0,
      "outputs": []
    },
    {
      "cell_type": "code",
      "metadata": {
        "colab_type": "code",
        "id": "Cu6u22sKwgvX",
        "outputId": "ccb2934f-9b87-4299-8052-f939f1c6c46c",
        "colab": {
          "base_uri": "https://localhost:8080/",
          "height": 88
        }
      },
      "source": [
        "# References\n",
        "# https://keras.io/layers/embeddings/#embedding\n",
        "# https://keras.io/layers/recurrent/#lstm\n",
        "# https://stackoverflow.com/questions/42755820/how-to-use-return-sequences-option-and-timedistributed-layer-in-keras\n",
        "\n",
        "# vocabulary size = 72395 +1 = 72396 = input_dim\n",
        "\n",
        "# model creation\n",
        "\n",
        "model=Sequential()\n",
        "\n",
        "# embedding layer\n",
        "\n",
        "model.add(Embedding(input_dim= 72396,output_dim=32,input_length=100,embeddings_initializer=\"glorot_normal\"))\n",
        "\n",
        "# Dropout layer\n",
        "\n",
        "model.add(Dropout(0.4))\n",
        "\n",
        "# LSTM layer\n",
        "\n",
        "model.add(LSTM(50,dropout=0.4,recurrent_dropout=0.4,return_sequences=True))\n",
        "\n",
        "# LSTM layer 2\n",
        "\n",
        "model.add(LSTM(50,dropout=0.4,recurrent_dropout=0.4))\n",
        "\n",
        "# Dropout layer 2\n",
        "\n",
        "model.add(Dropout(0.4))\n",
        "\n",
        "# Dense layer\n",
        "\n",
        "model.add(Dense(1,activation=\"sigmoid\"))"
      ],
      "execution_count": 0,
      "outputs": [
        {
          "output_type": "stream",
          "text": [
            "WARNING:tensorflow:From /usr/local/lib/python3.6/dist-packages/keras/backend/tensorflow_backend.py:3445: calling dropout (from tensorflow.python.ops.nn_ops) with keep_prob is deprecated and will be removed in a future version.\n",
            "Instructions for updating:\n",
            "Please use `rate` instead of `keep_prob`. Rate should be set to `rate = 1 - keep_prob`.\n"
          ],
          "name": "stdout"
        }
      ]
    },
    {
      "cell_type": "code",
      "metadata": {
        "colab_type": "code",
        "outputId": "2cc5a596-2acd-433d-aaf4-be21801c818c",
        "id": "wUHxJKmWwgva",
        "colab": {
          "base_uri": "https://localhost:8080/",
          "height": 340
        }
      },
      "source": [
        "# Model Summary\n",
        "\n",
        "model.summary()"
      ],
      "execution_count": 0,
      "outputs": [
        {
          "output_type": "stream",
          "text": [
            "_________________________________________________________________\n",
            "Layer (type)                 Output Shape              Param #   \n",
            "=================================================================\n",
            "embedding_2 (Embedding)      (None, 100, 32)           2316672   \n",
            "_________________________________________________________________\n",
            "dropout_1 (Dropout)          (None, 100, 32)           0         \n",
            "_________________________________________________________________\n",
            "lstm_2 (LSTM)                (None, 100, 50)           16600     \n",
            "_________________________________________________________________\n",
            "lstm_3 (LSTM)                (None, 50)                20200     \n",
            "_________________________________________________________________\n",
            "dropout_2 (Dropout)          (None, 50)                0         \n",
            "_________________________________________________________________\n",
            "dense_2 (Dense)              (None, 1)                 51        \n",
            "=================================================================\n",
            "Total params: 2,353,523\n",
            "Trainable params: 2,353,523\n",
            "Non-trainable params: 0\n",
            "_________________________________________________________________\n"
          ],
          "name": "stdout"
        }
      ]
    },
    {
      "cell_type": "code",
      "metadata": {
        "colab_type": "code",
        "id": "vcX70wzGwgvg",
        "colab": {}
      },
      "source": [
        "# Model compilation\n",
        "\n",
        "model.compile(optimizer=\"adam\",loss=\"binary_crossentropy\",metrics=[\"accuracy\"])"
      ],
      "execution_count": 0,
      "outputs": []
    },
    {
      "cell_type": "markdown",
      "metadata": {
        "colab_type": "text",
        "id": "Kfslc2v1wgvl"
      },
      "source": [
        "#### 4.2.2 Model Training:"
      ]
    },
    {
      "cell_type": "code",
      "metadata": {
        "colab_type": "code",
        "outputId": "de2f649b-af26-499d-a994-f01d3bb65750",
        "id": "FY1FRrzhwgvo",
        "colab": {
          "base_uri": "https://localhost:8080/",
          "height": 394
        }
      },
      "source": [
        "# model training\n",
        "\n",
        "History=model.fit(x_train,y_train,batch_size=1000,epochs=10,verbose=1,validation_split=0.3)"
      ],
      "execution_count": 0,
      "outputs": [
        {
          "output_type": "stream",
          "text": [
            "Train on 203935 samples, validate on 87401 samples\n",
            "Epoch 1/10\n",
            "203935/203935 [==============================] - 488s 2ms/step - loss: 0.3248 - acc: 0.8797 - val_loss: 0.2151 - val_acc: 0.9164\n",
            "Epoch 2/10\n",
            "203935/203935 [==============================] - 484s 2ms/step - loss: 0.2148 - acc: 0.9173 - val_loss: 0.2060 - val_acc: 0.9203\n",
            "Epoch 3/10\n",
            "203935/203935 [==============================] - 491s 2ms/step - loss: 0.1942 - acc: 0.9259 - val_loss: 0.1960 - val_acc: 0.9241\n",
            "Epoch 4/10\n",
            "203935/203935 [==============================] - 489s 2ms/step - loss: 0.1845 - acc: 0.9292 - val_loss: 0.1985 - val_acc: 0.9243\n",
            "Epoch 5/10\n",
            "203935/203935 [==============================] - 483s 2ms/step - loss: 0.1778 - acc: 0.9325 - val_loss: 0.1944 - val_acc: 0.9253\n",
            "Epoch 6/10\n",
            "203935/203935 [==============================] - 481s 2ms/step - loss: 0.1721 - acc: 0.9345 - val_loss: 0.1942 - val_acc: 0.9256\n",
            "Epoch 7/10\n",
            "203935/203935 [==============================] - 479s 2ms/step - loss: 0.1679 - acc: 0.9360 - val_loss: 0.2005 - val_acc: 0.9249\n",
            "Epoch 8/10\n",
            "203935/203935 [==============================] - 485s 2ms/step - loss: 0.1637 - acc: 0.9382 - val_loss: 0.1972 - val_acc: 0.9249\n",
            "Epoch 9/10\n",
            "203935/203935 [==============================] - 483s 2ms/step - loss: 0.1608 - acc: 0.9396 - val_loss: 0.1986 - val_acc: 0.9246\n",
            "Epoch 10/10\n",
            "203935/203935 [==============================] - 485s 2ms/step - loss: 0.1581 - acc: 0.9402 - val_loss: 0.1973 - val_acc: 0.9248\n"
          ],
          "name": "stdout"
        }
      ]
    },
    {
      "cell_type": "code",
      "metadata": {
        "colab_type": "code",
        "outputId": "80786021-f250-4283-fbf4-5e74659d3310",
        "id": "NVJvvgh7wgvz",
        "colab": {
          "base_uri": "https://localhost:8080/",
          "height": 295
        }
      },
      "source": [
        "# References\n",
        "# https://machinelearningmastery.com/display-deep-learning-model-training-history-in-keras/\n",
        "# https://keras.io/models/sequential/\n",
        "\n",
        "# Plotting Loss vs Epoch\n",
        "\n",
        "plt.close()\n",
        "plt.plot(History.history['loss'],'b',label=\"Training Loss\")\n",
        "plt.plot(History.history['val_loss'],'r',label=\"Validation Loss\")\n",
        "plt.title(\"Loss vs Epoch\")\n",
        "plt.xlabel(\"Epochs\")\n",
        "plt.ylabel(\"Loss\")\n",
        "plt.legend()\n",
        "plt.grid()\n",
        "plt.show()"
      ],
      "execution_count": 0,
      "outputs": [
        {
          "output_type": "display_data",
          "data": {
            "image/png": "[encoded data removed]",
            "text/plain": [
              "<Figure size 432x288 with 1 Axes>"
            ]
          },
          "metadata": {
            "tags": []
          }
        }
      ]
    },
    {
      "cell_type": "code",
      "metadata": {
        "colab_type": "code",
        "outputId": "c2cf257e-ce38-4303-e9f1-25cb4dcffa12",
        "id": "sPD_3pIHwgv4",
        "colab": {
          "base_uri": "https://localhost:8080/",
          "height": 295
        }
      },
      "source": [
        "# Plotting Accuracy vs Epoch\n",
        "\n",
        "plt.close()\n",
        "plt.plot(History.history['acc'],'b',label=\"Training Accuracy\")\n",
        "plt.plot(History.history['val_acc'],'r',label=\"Validation Accuracy\")\n",
        "plt.title(\"Accuracy vs Epoch\")\n",
        "plt.xlabel(\"Epochs\")\n",
        "plt.ylabel(\"Accuracy\")\n",
        "plt.legend()\n",
        "plt.grid()\n",
        "plt.show()"
      ],
      "execution_count": 0,
      "outputs": [
        {
          "output_type": "display_data",
          "data": {
            "image/png": "[encoded data removed]",
            "text/plain": [
              "<Figure size 432x288 with 1 Axes>"
            ]
          },
          "metadata": {
            "tags": []
          }
        }
      ]
    },
    {
      "cell_type": "code",
      "metadata": {
        "colab_type": "code",
        "outputId": "fbc4934a-99a4-4daa-d22e-e14f236cbf45",
        "id": "M6dE8v0jwgv8",
        "colab": {
          "base_uri": "https://localhost:8080/",
          "height": 139
        }
      },
      "source": [
        "# References\n",
        "# https://stackoverflow.com/questions/43715047/keras-2-x-get-weights-of-layer\n",
        "\n",
        "\n",
        "for layer in model.layers:\n",
        "  print(layer.get_config())"
      ],
      "execution_count": 0,
      "outputs": [
        {
          "output_type": "stream",
          "text": [
            "{'name': 'embedding_2', 'trainable': True, 'batch_input_shape': (None, 100), 'dtype': 'float32', 'input_dim': 72396, 'output_dim': 32, 'embeddings_initializer': {'class_name': 'VarianceScaling', 'config': {'scale': 1.0, 'mode': 'fan_avg', 'distribution': 'normal', 'seed': None}}, 'embeddings_regularizer': None, 'activity_regularizer': None, 'embeddings_constraint': None, 'mask_zero': False, 'input_length': 100}\n",
            "{'name': 'dropout_1', 'trainable': True, 'rate': 0.4, 'noise_shape': None, 'seed': None}\n",
            "{'name': 'lstm_2', 'trainable': True, 'return_sequences': True, 'return_state': False, 'go_backwards': False, 'stateful': False, 'unroll': False, 'units': 50, 'activation': 'tanh', 'recurrent_activation': 'hard_sigmoid', 'use_bias': True, 'kernel_initializer': {'class_name': 'VarianceScaling', 'config': {'scale': 1.0, 'mode': 'fan_avg', 'distribution': 'uniform', 'seed': None}}, 'recurrent_initializer': {'class_name': 'Orthogonal', 'config': {'gain': 1.0, 'seed': None}}, 'bias_initializer': {'class_name': 'Zeros', 'config': {}}, 'unit_forget_bias': True, 'kernel_regularizer': None, 'recurrent_regularizer': None, 'bias_regularizer': None, 'activity_regularizer': None, 'kernel_constraint': None, 'recurrent_constraint': None, 'bias_constraint': None, 'dropout': 0.4, 'recurrent_dropout': 0.4, 'implementation': 1}\n",
            "{'name': 'lstm_3', 'trainable': True, 'return_sequences': False, 'return_state': False, 'go_backwards': False, 'stateful': False, 'unroll': False, 'units': 50, 'activation': 'tanh', 'recurrent_activation': 'hard_sigmoid', 'use_bias': True, 'kernel_initializer': {'class_name': 'VarianceScaling', 'config': {'scale': 1.0, 'mode': 'fan_avg', 'distribution': 'uniform', 'seed': None}}, 'recurrent_initializer': {'class_name': 'Orthogonal', 'config': {'gain': 1.0, 'seed': None}}, 'bias_initializer': {'class_name': 'Zeros', 'config': {}}, 'unit_forget_bias': True, 'kernel_regularizer': None, 'recurrent_regularizer': None, 'bias_regularizer': None, 'activity_regularizer': None, 'kernel_constraint': None, 'recurrent_constraint': None, 'bias_constraint': None, 'dropout': 0.4, 'recurrent_dropout': 0.4, 'implementation': 1}\n",
            "{'name': 'dropout_2', 'trainable': True, 'rate': 0.4, 'noise_shape': None, 'seed': None}\n",
            "{'name': 'dense_2', 'trainable': True, 'units': 1, 'activation': 'sigmoid', 'use_bias': True, 'kernel_initializer': {'class_name': 'VarianceScaling', 'config': {'scale': 1.0, 'mode': 'fan_avg', 'distribution': 'uniform', 'seed': None}}, 'bias_initializer': {'class_name': 'Zeros', 'config': {}}, 'kernel_regularizer': None, 'bias_regularizer': None, 'activity_regularizer': None, 'kernel_constraint': None, 'bias_constraint': None}\n"
          ],
          "name": "stdout"
        }
      ]
    },
    {
      "cell_type": "code",
      "metadata": {
        "colab_type": "code",
        "outputId": "2b6feb53-2e31-4e69-a963-5a2079de68d6",
        "id": "_lsW7gRDwgwC",
        "colab": {
          "base_uri": "https://localhost:8080/",
          "height": 241
        }
      },
      "source": [
        "# References\n",
        "# https://stackoverflow.com/questions/43715047/keras-2-x-get-weights-of-layer\n",
        "\n",
        "layer1_weights = model.layers[0].get_weights()[0]\n",
        "layer2_weights = model.layers[2].get_weights()[0]\n",
        "layer3_weights = model.layers[3].get_weights()[0]\n",
        "layer4_weights = model.layers[5].get_weights()[0]\n",
        "\n",
        "print(\" Embedding Layer Weight Matrix Shape\")\n",
        "print(\"=\"*125)\n",
        "print(layer1_weights.shape)\n",
        "print(\" LSTM 1  Weight Matrix Shape\")\n",
        "print(\"=\"*125)\n",
        "print(layer2_weights.shape)\n",
        "print(\" LSTM 2 Weight Matrix Shape\")\n",
        "print(\"=\"*125)\n",
        "print(layer3_weights.shape)\n",
        "print(\" Output Layer Weight Matrix Shape\")\n",
        "print(\"=\"*125)\n",
        "print(layer4_weights.shape)"
      ],
      "execution_count": 0,
      "outputs": [
        {
          "output_type": "stream",
          "text": [
            " Embedding Layer Weight Matrix Shape\n",
            "=============================================================================================================================\n",
            "(72396, 32)\n",
            " LSTM 1  Weight Matrix Shape\n",
            "=============================================================================================================================\n",
            "(32, 200)\n",
            " LSTM 2 Weight Matrix Shape\n",
            "=============================================================================================================================\n",
            "(50, 200)\n",
            " Output Layer Weight Matrix Shape\n",
            "=============================================================================================================================\n",
            "(50, 1)\n"
          ],
          "name": "stdout"
        }
      ]
    },
    {
      "cell_type": "code",
      "metadata": {
        "colab_type": "code",
        "outputId": "cfd8a593-938e-483d-98c5-c3e242ea740f",
        "id": "33BHf--uwgwI",
        "colab": {
          "base_uri": "https://localhost:8080/",
          "height": 465
        }
      },
      "source": [
        "# References \n",
        "# https://seaborn.pydata.org/generated/seaborn.violinplot.html\n",
        "# https://matplotlib.org/api/_as_gen/matplotlib.pyplot.subplot.html\n",
        "\n",
        "fig = plt.figure(1,figsize=(7,7))\n",
        "fig.suptitle(\"Weight Matrix\")\n",
        "plt.subplot(1, 4, 1)\n",
        "plt.title(\"Embedded Layer\")\n",
        "sns.violinplot(y=layer1_weights,color='r')\n",
        "plt.grid()\n",
        "\n",
        "plt.subplot(1,4,2)\n",
        "plt.title(\"LSTM 1 layer\")\n",
        "sns.violinplot(y=layer2_weights,color='g')\n",
        "plt.grid()\n",
        "\n",
        "plt.subplot(1,4,3)\n",
        "plt.title(\"LSTM 2 layer\")\n",
        "sns.violinplot(y=layer3_weights,color='b')\n",
        "plt.grid()\n",
        "\n",
        "plt.subplot(1,4,4)\n",
        "plt.title(\"Output layer\")\n",
        "sns.violinplot(y=layer4_weights,color='b')\n",
        "plt.grid()"
      ],
      "execution_count": 0,
      "outputs": [
        {
          "output_type": "display_data",
          "data": {
            "image/png": "[encoded data removed]",
            "text/plain": [
              "<Figure size 504x504 with 4 Axes>"
            ]
          },
          "metadata": {
            "tags": []
          }
        }
      ]
    },
    {
      "cell_type": "markdown",
      "metadata": {
        "colab_type": "text",
        "id": "xKoyaxEWwgwS"
      },
      "source": [
        "#### 4.2.3 Model Evaluation:"
      ]
    },
    {
      "cell_type": "code",
      "metadata": {
        "colab_type": "code",
        "id": "TG9Gr4IDwgwY",
        "colab": {}
      },
      "source": [
        "# Refernces\n",
        "# https://keras.io/models/model/#evaluate\n",
        "\n",
        "evaluate_data=model.evaluate(x_test,y_test,verbose=0)"
      ],
      "execution_count": 0,
      "outputs": []
    },
    {
      "cell_type": "code",
      "metadata": {
        "colab_type": "code",
        "outputId": "fb9945b2-2105-4eca-ed29-6c3c1de6da1c",
        "id": "z4AX-hZPwgwa",
        "colab": {
          "base_uri": "https://localhost:8080/",
          "height": 139
        }
      },
      "source": [
        "evaluate_loss = evaluate_data[0]\n",
        "evaluate_acc  = evaluate_data[1]\n",
        "\n",
        "print(\" Evaluate Loss\")\n",
        "print(\"=\"*100)\n",
        "print(evaluate_loss)\n",
        "\n",
        "print(\" Evaluate Accuracy\")\n",
        "print(\"=\"*100)\n",
        "print(evaluate_acc)"
      ],
      "execution_count": 0,
      "outputs": [
        {
          "output_type": "stream",
          "text": [
            " Evaluate Loss\n",
            "====================================================================================================\n",
            "0.1919281865505083\n",
            " Evaluate Accuracy\n",
            "====================================================================================================\n",
            "0.9259010091310442\n"
          ],
          "name": "stdout"
        }
      ]
    },
    {
      "cell_type": "markdown",
      "metadata": {
        "colab_type": "text",
        "id": "qBOe0PP8wgwu"
      },
      "source": [
        "#### 4.2.4 Model Observation:"
      ]
    },
    {
      "cell_type": "code",
      "metadata": {
        "colab_type": "code",
        "outputId": "45c15b8a-c272-4e6e-b718-ade3d7d7583f",
        "id": "gR3PuJ8Zwgw1",
        "colab": {
          "base_uri": "https://localhost:8080/",
          "height": 187
        }
      },
      "source": [
        "a=PrettyTable()\n",
        "b=PrettyTable()\n",
        "b.field_names = [\"Optimizer\",\"Dropout rate\",\"Batch Size\",\"Epochs\"]\n",
        "b.add_row([\"Adam\",\"0.4\",1000,10])\n",
        "a.field_names = [\"LSTM layer\",\"Units\",\"Train loss\",\"Val_loss\",\"Test_loss\",\"Train_acc\",\"Val_acc\",\"Test_acc\"]\n",
        "a.add_row([2,50,0.1581,0.1973 ,0.1919,0.9402,0.9248,0.9259])\n",
        "print(b)\n",
        "print(a)"
      ],
      "execution_count": 18,
      "outputs": [
        {
          "output_type": "stream",
          "text": [
            "+-----------+--------------+------------+--------+\n",
            "| Optimizer | Dropout rate | Batch Size | Epochs |\n",
            "+-----------+--------------+------------+--------+\n",
            "|    Adam   |     0.4      |    1000    |   10   |\n",
            "+-----------+--------------+------------+--------+\n",
            "+------------+------------+----------+-----------+-----------+---------+----------+\n",
            "| LSTM layer | Train loss | Val_loss | Test_loss | Train_acc | Val_acc | Test_acc |\n",
            "+------------+------------+----------+-----------+-----------+---------+----------+\n",
            "|     2      |   0.1581   |  0.1973  |   0.1919  |   0.9402  |  0.9248 |  0.9259  |\n",
            "+------------+------------+----------+-----------+-----------+---------+----------+\n"
          ],
          "name": "stdout"
        }
      ]
    },
    {
      "cell_type": "markdown",
      "metadata": {
        "id": "U1LgND2ZGivc",
        "colab_type": "text"
      },
      "source": [
        "### 4.3 Three LSTM layer:"
      ]
    },
    {
      "cell_type": "markdown",
      "metadata": {
        "colab_type": "text",
        "id": "OPOzZRtfGTdI"
      },
      "source": [
        "#### 4.3.1 Sequence model:"
      ]
    },
    {
      "cell_type": "code",
      "metadata": {
        "colab_type": "code",
        "id": "5i6afMgwGTdK",
        "colab": {}
      },
      "source": [
        "from keras.layers import Dropout,BatchNormalization\n",
        "from keras import regularizers"
      ],
      "execution_count": 0,
      "outputs": []
    },
    {
      "cell_type": "code",
      "metadata": {
        "colab_type": "code",
        "id": "D5-H0tjtGTdP",
        "colab": {}
      },
      "source": [
        "# References\n",
        "# https://keras.io/layers/embeddings/#embedding\n",
        "# https://keras.io/layers/recurrent/#lstm\n",
        "# https://stackoverflow.com/questions/42755820/how-to-use-return-sequences-option-and-timedistributed-layer-in-keras\n",
        "\n",
        "# vocabulary size = 72395 +1 = 72396 = input_dim\n",
        "\n",
        "# model creation\n",
        "\n",
        "model=Sequential()\n",
        "\n",
        "# embedding layer\n",
        "\n",
        "model.add(Embedding(input_dim= 72396,output_dim=32,input_length=100,embeddings_initializer=\"glorot_normal\"))\n",
        "\n",
        "# BN Layer\n",
        "\n",
        "model.add(BatchNormalization())\n",
        "\n",
        "# Dropout layer\n",
        "\n",
        "model.add(Dropout(0.4))\n",
        "\n",
        "# LSTM layer\n",
        "\n",
        "model.add(LSTM(50,dropout=0.4,recurrent_dropout=0.4,return_sequences=True,kernel_regularizer=regularizers.l2(0.01)))\n",
        "\n",
        "# LSTM layer 2\n",
        "\n",
        "model.add(LSTM(50,dropout=0.4,recurrent_dropout=0.4,return_sequences=True,kernel_regularizer=regularizers.l2(0.01)))\n",
        "\n",
        "# LSTM layer 3\n",
        "\n",
        "model.add(LSTM(50,dropout=0.4,recurrent_dropout=0.4,kernel_regularizer=regularizers.l2(0.01)))\n",
        "\n",
        "# Dropout layer 2\n",
        "\n",
        "model.add(Dropout(0.4))\n",
        "\n",
        "# BN Layer 2\n",
        "\n",
        "model.add(BatchNormalization())\n",
        "\n",
        "# Dense layer\n",
        "\n",
        "model.add(Dense(1,activation=\"sigmoid\"))"
      ],
      "execution_count": 0,
      "outputs": []
    },
    {
      "cell_type": "code",
      "metadata": {
        "colab_type": "code",
        "outputId": "b74f45b7-0081-4177-a0be-e270991b3b3f",
        "id": "mNW5e63nGTdT",
        "colab": {
          "base_uri": "https://localhost:8080/",
          "height": 442
        }
      },
      "source": [
        "# Model Summary\n",
        "\n",
        "model.summary()"
      ],
      "execution_count": 25,
      "outputs": [
        {
          "output_type": "stream",
          "text": [
            "_________________________________________________________________\n",
            "Layer (type)                 Output Shape              Param #   \n",
            "=================================================================\n",
            "embedding_2 (Embedding)      (None, 100, 32)           2316672   \n",
            "_________________________________________________________________\n",
            "batch_normalization_3 (Batch (None, 100, 32)           128       \n",
            "_________________________________________________________________\n",
            "dropout_3 (Dropout)          (None, 100, 32)           0         \n",
            "_________________________________________________________________\n",
            "lstm_4 (LSTM)                (None, 100, 50)           16600     \n",
            "_________________________________________________________________\n",
            "lstm_5 (LSTM)                (None, 100, 50)           20200     \n",
            "_________________________________________________________________\n",
            "lstm_6 (LSTM)                (None, 50)                20200     \n",
            "_________________________________________________________________\n",
            "dropout_4 (Dropout)          (None, 50)                0         \n",
            "_________________________________________________________________\n",
            "batch_normalization_4 (Batch (None, 50)                200       \n",
            "_________________________________________________________________\n",
            "dense_2 (Dense)              (None, 1)                 51        \n",
            "=================================================================\n",
            "Total params: 2,374,051\n",
            "Trainable params: 2,373,887\n",
            "Non-trainable params: 164\n",
            "_________________________________________________________________\n"
          ],
          "name": "stdout"
        }
      ]
    },
    {
      "cell_type": "code",
      "metadata": {
        "colab_type": "code",
        "id": "yF04xH9iGTdY",
        "colab": {}
      },
      "source": [
        "# Model compilation\n",
        "\n",
        "model.compile(optimizer=\"adam\",loss=\"binary_crossentropy\",metrics=[\"accuracy\"])"
      ],
      "execution_count": 0,
      "outputs": []
    },
    {
      "cell_type": "markdown",
      "metadata": {
        "colab_type": "text",
        "id": "2IP4ukZbGTdc"
      },
      "source": [
        "#### 4.3.2 Model Training:"
      ]
    },
    {
      "cell_type": "code",
      "metadata": {
        "colab_type": "code",
        "outputId": "e6f08159-a5f7-462a-d0a7-220e03511f69",
        "id": "Elx4SGoQGTdd",
        "colab": {
          "base_uri": "https://localhost:8080/",
          "height": 445
        }
      },
      "source": [
        "# model training\n",
        "\n",
        "History=model.fit(x_train,y_train,batch_size=1000,epochs=10,verbose=1,validation_split=0.3)"
      ],
      "execution_count": 27,
      "outputs": [
        {
          "output_type": "stream",
          "text": [
            "WARNING:tensorflow:From /usr/local/lib/python3.6/dist-packages/tensorflow/python/ops/math_ops.py:3066: to_int32 (from tensorflow.python.ops.math_ops) is deprecated and will be removed in a future version.\n",
            "Instructions for updating:\n",
            "Use tf.cast instead.\n",
            "Train on 203935 samples, validate on 87401 samples\n",
            "Epoch 1/10\n",
            "203935/203935 [==============================] - 654s 3ms/step - loss: 0.9754 - acc: 0.8262 - val_loss: 0.3066 - val_acc: 0.9101\n",
            "Epoch 2/10\n",
            "203935/203935 [==============================] - 647s 3ms/step - loss: 0.2609 - acc: 0.9082 - val_loss: 0.2312 - val_acc: 0.9097\n",
            "Epoch 3/10\n",
            "203935/203935 [==============================] - 646s 3ms/step - loss: 0.2222 - acc: 0.9185 - val_loss: 0.2213 - val_acc: 0.9149\n",
            "Epoch 4/10\n",
            "203935/203935 [==============================] - 647s 3ms/step - loss: 0.2098 - acc: 0.9229 - val_loss: 0.2235 - val_acc: 0.9145\n",
            "Epoch 5/10\n",
            "203935/203935 [==============================] - 646s 3ms/step - loss: 0.2011 - acc: 0.9263 - val_loss: 0.2234 - val_acc: 0.9138\n",
            "Epoch 6/10\n",
            "203935/203935 [==============================] - 647s 3ms/step - loss: 0.1954 - acc: 0.9284 - val_loss: 0.2182 - val_acc: 0.9186\n",
            "Epoch 7/10\n",
            "203935/203935 [==============================] - 647s 3ms/step - loss: 0.1879 - acc: 0.9321 - val_loss: 0.2207 - val_acc: 0.9159\n",
            "Epoch 8/10\n",
            "203935/203935 [==============================] - 645s 3ms/step - loss: 0.1843 - acc: 0.9338 - val_loss: 0.2250 - val_acc: 0.9165\n",
            "Epoch 9/10\n",
            "203935/203935 [==============================] - 647s 3ms/step - loss: 0.1789 - acc: 0.9356 - val_loss: 0.2158 - val_acc: 0.9205\n",
            "Epoch 10/10\n",
            "203935/203935 [==============================] - 647s 3ms/step - loss: 0.1735 - acc: 0.9376 - val_loss: 0.2143 - val_acc: 0.9221\n"
          ],
          "name": "stdout"
        }
      ]
    },
    {
      "cell_type": "code",
      "metadata": {
        "colab_type": "code",
        "outputId": "891872b8-e38f-4b83-9efd-70d292b910c3",
        "id": "Hpwzqje-GTdh",
        "colab": {
          "base_uri": "https://localhost:8080/",
          "height": 295
        }
      },
      "source": [
        "# References\n",
        "# https://machinelearningmastery.com/display-deep-learning-model-training-history-in-keras/\n",
        "# https://keras.io/models/sequential/\n",
        "\n",
        "# Plotting Loss vs Epoch\n",
        "\n",
        "plt.close()\n",
        "plt.plot(History.history['loss'],'b',label=\"Training Loss\")\n",
        "plt.plot(History.history['val_loss'],'r',label=\"Validation Loss\")\n",
        "plt.title(\"Loss vs Epoch\")\n",
        "plt.xlabel(\"Epochs\")\n",
        "plt.ylabel(\"Loss\")\n",
        "plt.legend()\n",
        "plt.grid()\n",
        "plt.show()"
      ],
      "execution_count": 28,
      "outputs": [
        {
          "output_type": "display_data",
          "data": {
            "image/png": "[encoded data removed]",
            "text/plain": [
              "<Figure size 432x288 with 1 Axes>"
            ]
          },
          "metadata": {
            "tags": []
          }
        }
      ]
    },
    {
      "cell_type": "code",
      "metadata": {
        "colab_type": "code",
        "outputId": "29df124b-d8c8-446e-a8b2-5fa6755f9701",
        "id": "UXoCcItTGTdl",
        "colab": {
          "base_uri": "https://localhost:8080/",
          "height": 295
        }
      },
      "source": [
        "# Plotting Accuracy vs Epoch\n",
        "\n",
        "plt.close()\n",
        "plt.plot(History.history['acc'],'b',label=\"Training Accuracy\")\n",
        "plt.plot(History.history['val_acc'],'r',label=\"Validation Accuracy\")\n",
        "plt.title(\"Accuracy vs Epoch\")\n",
        "plt.xlabel(\"Epochs\")\n",
        "plt.ylabel(\"Accuracy\")\n",
        "plt.legend()\n",
        "plt.grid()\n",
        "plt.show()"
      ],
      "execution_count": 29,
      "outputs": [
        {
          "output_type": "display_data",
          "data": {
            "image/png": "[encoded data removed]",
            "text/plain": [
              "<Figure size 432x288 with 1 Axes>"
            ]
          },
          "metadata": {
            "tags": []
          }
        }
      ]
    },
    {
      "cell_type": "code",
      "metadata": {
        "colab_type": "code",
        "outputId": "7d6d5352-fe1c-4cc9-c444-0ec278c2d636",
        "id": "TgdZLGp7GTdr",
        "colab": {
          "base_uri": "https://localhost:8080/",
          "height": 190
        }
      },
      "source": [
        "# References\n",
        "# https://stackoverflow.com/questions/43715047/keras-2-x-get-weights-of-layer\n",
        "\n",
        "\n",
        "for layer in model.layers:\n",
        "  print(layer.get_config())"
      ],
      "execution_count": 30,
      "outputs": [
        {
          "output_type": "stream",
          "text": [
            "{'name': 'embedding_2', 'trainable': True, 'batch_input_shape': (None, 100), 'dtype': 'float32', 'input_dim': 72396, 'output_dim': 32, 'embeddings_initializer': {'class_name': 'VarianceScaling', 'config': {'scale': 1.0, 'mode': 'fan_avg', 'distribution': 'normal', 'seed': None}}, 'embeddings_regularizer': None, 'activity_regularizer': None, 'embeddings_constraint': None, 'mask_zero': False, 'input_length': 100}\n",
            "{'name': 'batch_normalization_3', 'trainable': True, 'axis': -1, 'momentum': 0.99, 'epsilon': 0.001, 'center': True, 'scale': True, 'beta_initializer': {'class_name': 'Zeros', 'config': {}}, 'gamma_initializer': {'class_name': 'Ones', 'config': {}}, 'moving_mean_initializer': {'class_name': 'Zeros', 'config': {}}, 'moving_variance_initializer': {'class_name': 'Ones', 'config': {}}, 'beta_regularizer': None, 'gamma_regularizer': None, 'beta_constraint': None, 'gamma_constraint': None}\n",
            "{'name': 'dropout_3', 'trainable': True, 'rate': 0.4, 'noise_shape': None, 'seed': None}\n",
            "{'name': 'lstm_4', 'trainable': True, 'return_sequences': True, 'return_state': False, 'go_backwards': False, 'stateful': False, 'unroll': False, 'units': 50, 'activation': 'tanh', 'recurrent_activation': 'hard_sigmoid', 'use_bias': True, 'kernel_initializer': {'class_name': 'VarianceScaling', 'config': {'scale': 1.0, 'mode': 'fan_avg', 'distribution': 'uniform', 'seed': None}}, 'recurrent_initializer': {'class_name': 'Orthogonal', 'config': {'gain': 1.0, 'seed': None}}, 'bias_initializer': {'class_name': 'Zeros', 'config': {}}, 'unit_forget_bias': True, 'kernel_regularizer': {'class_name': 'L1L2', 'config': {'l1': 0.0, 'l2': 0.009999999776482582}}, 'recurrent_regularizer': None, 'bias_regularizer': None, 'activity_regularizer': None, 'kernel_constraint': None, 'recurrent_constraint': None, 'bias_constraint': None, 'dropout': 0.4, 'recurrent_dropout': 0.4, 'implementation': 1}\n",
            "{'name': 'lstm_5', 'trainable': True, 'return_sequences': True, 'return_state': False, 'go_backwards': False, 'stateful': False, 'unroll': False, 'units': 50, 'activation': 'tanh', 'recurrent_activation': 'hard_sigmoid', 'use_bias': True, 'kernel_initializer': {'class_name': 'VarianceScaling', 'config': {'scale': 1.0, 'mode': 'fan_avg', 'distribution': 'uniform', 'seed': None}}, 'recurrent_initializer': {'class_name': 'Orthogonal', 'config': {'gain': 1.0, 'seed': None}}, 'bias_initializer': {'class_name': 'Zeros', 'config': {}}, 'unit_forget_bias': True, 'kernel_regularizer': {'class_name': 'L1L2', 'config': {'l1': 0.0, 'l2': 0.009999999776482582}}, 'recurrent_regularizer': None, 'bias_regularizer': None, 'activity_regularizer': None, 'kernel_constraint': None, 'recurrent_constraint': None, 'bias_constraint': None, 'dropout': 0.4, 'recurrent_dropout': 0.4, 'implementation': 1}\n",
            "{'name': 'lstm_6', 'trainable': True, 'return_sequences': False, 'return_state': False, 'go_backwards': False, 'stateful': False, 'unroll': False, 'units': 50, 'activation': 'tanh', 'recurrent_activation': 'hard_sigmoid', 'use_bias': True, 'kernel_initializer': {'class_name': 'VarianceScaling', 'config': {'scale': 1.0, 'mode': 'fan_avg', 'distribution': 'uniform', 'seed': None}}, 'recurrent_initializer': {'class_name': 'Orthogonal', 'config': {'gain': 1.0, 'seed': None}}, 'bias_initializer': {'class_name': 'Zeros', 'config': {}}, 'unit_forget_bias': True, 'kernel_regularizer': {'class_name': 'L1L2', 'config': {'l1': 0.0, 'l2': 0.009999999776482582}}, 'recurrent_regularizer': None, 'bias_regularizer': None, 'activity_regularizer': None, 'kernel_constraint': None, 'recurrent_constraint': None, 'bias_constraint': None, 'dropout': 0.4, 'recurrent_dropout': 0.4, 'implementation': 1}\n",
            "{'name': 'dropout_4', 'trainable': True, 'rate': 0.4, 'noise_shape': None, 'seed': None}\n",
            "{'name': 'batch_normalization_4', 'trainable': True, 'axis': -1, 'momentum': 0.99, 'epsilon': 0.001, 'center': True, 'scale': True, 'beta_initializer': {'class_name': 'Zeros', 'config': {}}, 'gamma_initializer': {'class_name': 'Ones', 'config': {}}, 'moving_mean_initializer': {'class_name': 'Zeros', 'config': {}}, 'moving_variance_initializer': {'class_name': 'Ones', 'config': {}}, 'beta_regularizer': None, 'gamma_regularizer': None, 'beta_constraint': None, 'gamma_constraint': None}\n",
            "{'name': 'dense_2', 'trainable': True, 'units': 1, 'activation': 'sigmoid', 'use_bias': True, 'kernel_initializer': {'class_name': 'VarianceScaling', 'config': {'scale': 1.0, 'mode': 'fan_avg', 'distribution': 'uniform', 'seed': None}}, 'bias_initializer': {'class_name': 'Zeros', 'config': {}}, 'kernel_regularizer': None, 'bias_regularizer': None, 'activity_regularizer': None, 'kernel_constraint': None, 'bias_constraint': None}\n"
          ],
          "name": "stdout"
        }
      ]
    },
    {
      "cell_type": "code",
      "metadata": {
        "colab_type": "code",
        "outputId": "ab1d261f-182f-44c9-d3c6-910b91e6e54d",
        "id": "d4z2BXggGTdv",
        "colab": {
          "base_uri": "https://localhost:8080/",
          "height": 272
        }
      },
      "source": [
        "# References\n",
        "# https://stackoverflow.com/questions/43715047/keras-2-x-get-weights-of-layer\n",
        "\n",
        "layer1_weights = model.layers[0].get_weights()[0]\n",
        "layer2_weights = model.layers[3].get_weights()[0]\n",
        "layer3_weights = model.layers[4].get_weights()[0]\n",
        "layer4_weights = model.layers[5].get_weights()[0]\n",
        "layer5_weights = model.layers[8].get_weights()[0]\n",
        "\n",
        "\n",
        "print(\" Embedding Layer Weight Matrix Shape\")\n",
        "print(\"=\"*125)\n",
        "print(layer1_weights.shape)\n",
        "print(\" LSTM 1  Weight Matrix Shape\")\n",
        "print(\"=\"*125)\n",
        "print(layer2_weights.shape)\n",
        "print(\" LSTM 2 Weight Matrix Shape\")\n",
        "print(\"=\"*125)\n",
        "print(layer3_weights.shape)\n",
        "print(\" LSTM 3 Weight Matrix Shape\")\n",
        "print(\"=\"*125)\n",
        "print(layer4_weights.shape)\n",
        "print(\" Output Layer Weight Matrix Shape\")\n",
        "print(\"=\"*125)\n",
        "print(layer5_weights.shape)"
      ],
      "execution_count": 31,
      "outputs": [
        {
          "output_type": "stream",
          "text": [
            " Embedding Layer Weight Matrix Shape\n",
            "=============================================================================================================================\n",
            "(72396, 32)\n",
            " LSTM 1  Weight Matrix Shape\n",
            "=============================================================================================================================\n",
            "(32, 200)\n",
            " LSTM 2 Weight Matrix Shape\n",
            "=============================================================================================================================\n",
            "(50, 200)\n",
            " LSTM 3 Weight Matrix Shape\n",
            "=============================================================================================================================\n",
            "(50, 200)\n",
            " Output Layer Weight Matrix Shape\n",
            "=============================================================================================================================\n",
            "(50, 1)\n"
          ],
          "name": "stdout"
        }
      ]
    },
    {
      "cell_type": "code",
      "metadata": {
        "colab_type": "code",
        "outputId": "1f15ccdc-b08f-4b49-bb43-5bf56d779984",
        "id": "CHyZ42SkGTdz",
        "colab": {
          "base_uri": "https://localhost:8080/",
          "height": 467
        }
      },
      "source": [
        "# References \n",
        "# https://seaborn.pydata.org/generated/seaborn.violinplot.html\n",
        "# https://matplotlib.org/api/_as_gen/matplotlib.pyplot.subplot.html\n",
        "\n",
        "fig = plt.figure(1,figsize=(7,7))\n",
        "fig.suptitle(\"Weight Matrix\")\n",
        "plt.subplot(1, 5, 1)\n",
        "plt.title(\"Embedded Layer\")\n",
        "sns.violinplot(y=layer1_weights,color='r')\n",
        "plt.grid()\n",
        "\n",
        "plt.subplot(1,5,2)\n",
        "plt.title(\"LSTM 1 layer\")\n",
        "sns.violinplot(y=layer2_weights,color='g')\n",
        "plt.grid()\n",
        "\n",
        "plt.subplot(1,5,3)\n",
        "plt.title(\"LSTM 2 layer\")\n",
        "sns.violinplot(y=layer3_weights,color='b')\n",
        "plt.grid()\n",
        "\n",
        "plt.subplot(1,5,4)\n",
        "plt.title(\"LSTM 3 layer\")\n",
        "sns.violinplot(y=layer4_weights,color='b')\n",
        "plt.grid()\n",
        "\n",
        "plt.subplot(1,5,5)\n",
        "plt.title(\"Output layer\")\n",
        "sns.violinplot(y=layer5_weights,color='b')\n",
        "plt.grid()"
      ],
      "execution_count": 32,
      "outputs": [
        {
          "output_type": "display_data",
          "data": {
            "image/png": "[encoded data removed]",
            "text/plain": [
              "<Figure size 504x504 with 5 Axes>"
            ]
          },
          "metadata": {
            "tags": []
          }
        }
      ]
    },
    {
      "cell_type": "markdown",
      "metadata": {
        "colab_type": "text",
        "id": "wz1Hh2pSGTd7"
      },
      "source": [
        "#### 4.3.3 Model Evaluation:"
      ]
    },
    {
      "cell_type": "code",
      "metadata": {
        "colab_type": "code",
        "id": "OmyU7nGdGTd8",
        "colab": {}
      },
      "source": [
        "# Refernces\n",
        "# https://keras.io/models/model/#evaluate\n",
        "\n",
        "evaluate_data=model.evaluate(x_test,y_test,verbose=0)"
      ],
      "execution_count": 0,
      "outputs": []
    },
    {
      "cell_type": "code",
      "metadata": {
        "colab_type": "code",
        "outputId": "7e41b849-4e5b-42e8-b52d-717fd721ecb6",
        "id": "6dask2mGGTeD",
        "colab": {
          "base_uri": "https://localhost:8080/",
          "height": 119
        }
      },
      "source": [
        "evaluate_loss = evaluate_data[0]\n",
        "evaluate_acc  = evaluate_data[1]\n",
        "\n",
        "print(\" Evaluate Loss\")\n",
        "print(\"=\"*100)\n",
        "print(evaluate_loss)\n",
        "\n",
        "print(\" Evaluate Accuracy\")\n",
        "print(\"=\"*100)\n",
        "print(evaluate_acc)"
      ],
      "execution_count": 34,
      "outputs": [
        {
          "output_type": "stream",
          "text": [
            " Evaluate Loss\n",
            "====================================================================================================\n",
            "0.21034497041287203\n",
            " Evaluate Accuracy\n",
            "====================================================================================================\n",
            "0.9225784307003447\n"
          ],
          "name": "stdout"
        }
      ]
    },
    {
      "cell_type": "markdown",
      "metadata": {
        "colab_type": "text",
        "id": "FDaWH7GaGTeb"
      },
      "source": [
        "#### 4.3.4 Model Observation:"
      ]
    },
    {
      "cell_type": "code",
      "metadata": {
        "colab_type": "code",
        "outputId": "5b155c35-d5db-4b4a-b6b0-9e507098b93e",
        "id": "R5Q-ipoqGTed",
        "colab": {
          "base_uri": "https://localhost:8080/",
          "height": 187
        }
      },
      "source": [
        "a=PrettyTable()\n",
        "b=PrettyTable()\n",
        "b.field_names = [\"Optimizer\",\"Dropout rate\",\"Batch Size\",\"Epochs\"]\n",
        "b.add_row([\"Adam\",\"0.4\",1000,10])\n",
        "a.field_names = [\"LSTM layer\",\"Units\",\"Train loss\",\"Val_loss\",\"Test_loss\",\"Train_acc\",\"Val_acc\",\"Test_acc\"]\n",
        "a.add_row([3,50,0.1735,0.2143,0.2103,0.9376,0.9221,0.9225])\n",
        "print(b)\n",
        "print(a)"
      ],
      "execution_count": 36,
      "outputs": [
        {
          "output_type": "stream",
          "text": [
            "+-----------+--------------+------------+--------+\n",
            "| Optimizer | Dropout rate | Batch Size | Epochs |\n",
            "+-----------+--------------+------------+--------+\n",
            "|    Adam   |     0.4      |    1000    |   10   |\n",
            "+-----------+--------------+------------+--------+\n",
            "+------------+-------+------------+----------+-----------+-----------+---------+----------+\n",
            "| LSTM layer | Units | Train loss | Val_loss | Test_loss | Train_acc | Val_acc | Test_acc |\n",
            "+------------+-------+------------+----------+-----------+-----------+---------+----------+\n",
            "|     3      |   50  |   0.1735   |  0.2143  |   0.2103  |   0.9376  |  0.9221 |  0.9225  |\n",
            "+------------+-------+------------+----------+-----------+-----------+---------+----------+\n"
          ],
          "name": "stdout"
        }
      ]
    },
    {
      "cell_type": "markdown",
      "metadata": {
        "id": "laenCxy9Lb-w",
        "colab_type": "text"
      },
      "source": [
        "### 5. Conclusion:"
      ]
    },
    {
      "cell_type": "code",
      "metadata": {
        "id": "6-0gbs-jLkTI",
        "colab_type": "code",
        "outputId": "490f2c97-8704-4a56-acdf-01cb6a6040c0",
        "colab": {
          "base_uri": "https://localhost:8080/",
          "height": 289
        }
      },
      "source": [
        "a=PrettyTable()\n",
        "b=PrettyTable()\n",
        "b.field_names = [\"LSTM layer\",\"Optimizer\",\"Dropout rate\",\"Batch Size\",\"Epochs\",\"Kernel Regularizer\",\"BN\"]\n",
        "b.add_row([1,\"Adam\",\"Nil\",1000,10,\"Nil\",\"Nil\"])\n",
        "b.add_row([2,\"Adam\",0.4,1000,10,\"Nil\",\"Nil\"])\n",
        "b.add_row([3,\"Adam\",0.4,1000,10,0.01,\"Yes\"])\n",
        "a.field_names = [\"LSTM layer\",\"Units\",\"Train loss\",\"Val_loss\",\"Test_loss\",\"Train_acc\",\"Val_acc\",\"Test_acc\"]\n",
        "a.add_row([1,100,0.1074,0.2196 ,0.2180,0.9605,0.9183,0.9180])\n",
        "a.add_row([2,50,0.1581,0.1973 ,0.1919,0.9402,0.9248,0.9259])\n",
        "a.add_row([3,50,0.1735,0.2143,0.2103,0.9376,0.9221,0.9225])\n",
        "print(b)\n",
        "print(\"Architecture loss and accuracy comparision\")\n",
        "print(\"=\"*100)\n",
        "print(a)"
      ],
      "execution_count": 37,
      "outputs": [
        {
          "output_type": "stream",
          "text": [
            "+------------+-----------+--------------+------------+--------+--------------------+-----+\n",
            "| LSTM layer | Optimizer | Dropout rate | Batch Size | Epochs | Kernel Regularizer |  BN |\n",
            "+------------+-----------+--------------+------------+--------+--------------------+-----+\n",
            "|     1      |    Adam   |     Nil      |    1000    |   10   |        Nil         | Nil |\n",
            "|     2      |    Adam   |     0.4      |    1000    |   10   |        Nil         | Nil |\n",
            "|     3      |    Adam   |     0.4      |    1000    |   10   |        0.01        | Yes |\n",
            "+------------+-----------+--------------+------------+--------+--------------------+-----+\n",
            "Architecture loss and accuracy comparision\n",
            "====================================================================================================\n",
            "+------------+-------+------------+----------+-----------+-----------+---------+----------+\n",
            "| LSTM layer | Units | Train loss | Val_loss | Test_loss | Train_acc | Val_acc | Test_acc |\n",
            "+------------+-------+------------+----------+-----------+-----------+---------+----------+\n",
            "|     1      |  100  |   0.1074   |  0.2196  |   0.218   |   0.9605  |  0.9183 |  0.918   |\n",
            "|     2      |   50  |   0.1581   |  0.1973  |   0.1919  |   0.9402  |  0.9248 |  0.9259  |\n",
            "|     3      |   50  |   0.1735   |  0.2143  |   0.2103  |   0.9376  |  0.9221 |  0.9225  |\n",
            "+------------+-------+------------+----------+-----------+-----------+---------+----------+\n"
          ],
          "name": "stdout"
        }
      ]
    },
    {
      "cell_type": "markdown",
      "metadata": {
        "id": "OcEpRESSJxm9",
        "colab_type": "text"
      },
      "source": [
        "**Data Preparation:**\n",
        "\n",
        "    After conversion of IMDB dataset format, the pickle files were loaded by using joblib. Then the data was splitted as a train and test data."
      ]
    },
    {
      "cell_type": "markdown",
      "metadata": {
        "id": "8arNijo3KY4K",
        "colab_type": "text"
      },
      "source": [
        "**LSTM layers:**\n",
        "\n",
        "    Using those splitted data's,padding and embedding layer, Different architecture of LSTM(1 layer,2 layer,3 layer) was implemented."
      ]
    },
    {
      "cell_type": "markdown",
      "metadata": {
        "id": "4sqkYjGaLOrJ",
        "colab_type": "text"
      },
      "source": [
        "**Loss vs Epoch plot:**\n",
        "\n",
        "    Loss(Train and Validation) vs Epoch graph has been plotted sucessfully for each of the Architecture."
      ]
    },
    {
      "cell_type": "markdown",
      "metadata": {
        "id": "Av6r2UIRLW7G",
        "colab_type": "text"
      },
      "source": [
        "**Weight Plot:**\n",
        "\n",
        "    Weight (Weight matrix got After the Optimization) graph has been plotted sucessfully for each of the Architecture."
      ]
    }
  ]
}